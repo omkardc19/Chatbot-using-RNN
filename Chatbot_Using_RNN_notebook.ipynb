{
  "nbformat": 4,
  "nbformat_minor": 0,
  "metadata": {
    "colab": {
      "provenance": [],
      "gpuType": "T4"
    },
    "kernelspec": {
      "name": "python3",
      "display_name": "Python 3"
    },
    "language_info": {
      "name": "python"
    },
    "accelerator": "GPU"
  },
  "cells": [
    {
      "cell_type": "code",
      "execution_count": 456,
      "metadata": {
        "id": "PSW1b3g7_jB_"
      },
      "outputs": [],
      "source": [
        "# importing required libraries\n",
        "import pickle\n",
        "import numpy as np\n",
        "from tensorflow.keras.preprocessing.sequence import pad_sequences\n",
        "from tensorflow.keras.preprocessing.text import Tokenizer\n",
        "from tensorflow.keras.models import Sequential, Model, save_model\n",
        "from tensorflow.keras.layers import Embedding, Input, Activation, Dense, Permute, Dropout, add, dot, concatenate, LSTM\n",
        "from tensorflow.keras.optimizers import RMSprop\n",
        "import math\n",
        "from tensorflow.keras.callbacks import ReduceLROnPlateau, LearningRateScheduler\n",
        "import matplotlib.pyplot as plt"
      ]
    },
    {
      "cell_type": "markdown",
      "source": [
        "# Loading the dataset\n",
        " https://research.fb.com/downloads/babi/  \n",
        " The BaBi dataset serves as the cornerstone of our project.  \n",
        "\n",
        "\n",
        " It contains a diverse set of tasks, each designed to evaluate specific aspects of a model’s reasoning abilities. The dataset\n",
        " encompasses a range of story types, making it a comprehensive resource for training and\n",
        " evaluating our chatbot.\n"
      ],
      "metadata": {
        "id": "p_4-skGoBngB"
      }
    },
    {
      "cell_type": "code",
      "source": [
        "with open(\"train_qa.txt\", \"rb\") as fp:   # Unpickling, read-binary\n",
        "    train_data =  pickle.load(fp)\n",
        "with open(\"test_qa.txt\", \"rb\") as fp:   # Unpickling, read-binary\n",
        "    test_data =  pickle.load(fp)"
      ],
      "metadata": {
        "id": "cKmisI-7Fui1"
      },
      "execution_count": 457,
      "outputs": []
    },
    {
      "cell_type": "code",
      "source": [
        "# Display types and lengths of the loaded data\n",
        "print(type(train_data), len(train_data))\n",
        "print(type(test_data), len(test_data))"
      ],
      "metadata": {
        "colab": {
          "base_uri": "https://localhost:8080/"
        },
        "id": "BdNrXC1gF4AP",
        "outputId": "5b2c6679-0f43-4143-a05c-a4f3cf39f1b7"
      },
      "execution_count": 458,
      "outputs": [
        {
          "output_type": "stream",
          "name": "stdout",
          "text": [
            "<class 'list'> 10000\n",
            "<class 'list'> 1000\n"
          ]
        }
      ]
    },
    {
      "cell_type": "markdown",
      "source": [
        "# Understanding the Data Schema"
      ],
      "metadata": {
        "id": "epX6unFRCGPO"
      }
    },
    {
      "cell_type": "code",
      "source": [
        "# Display information about the first data point\n",
        "print(len(train_data[0]), type(train_data[0]))"
      ],
      "metadata": {
        "colab": {
          "base_uri": "https://localhost:8080/"
        },
        "id": "VrdORvnoF-YT",
        "outputId": "c2807a12-3d96-4726-9751-6223b6d18a4c"
      },
      "execution_count": 459,
      "outputs": [
        {
          "output_type": "stream",
          "name": "stdout",
          "text": [
            "3 <class 'tuple'>\n"
          ]
        }
      ]
    },
    {
      "cell_type": "code",
      "source": [
        "train_data[0]"
      ],
      "metadata": {
        "colab": {
          "base_uri": "https://localhost:8080/"
        },
        "id": "YZSA7PtlGFl9",
        "outputId": "0cd56adb-88bd-48a1-d127-39a5eecef2ce"
      },
      "execution_count": 460,
      "outputs": [
        {
          "output_type": "execute_result",
          "data": {
            "text/plain": [
              "(['Mary',\n",
              "  'moved',\n",
              "  'to',\n",
              "  'the',\n",
              "  'bathroom',\n",
              "  '.',\n",
              "  'Sandra',\n",
              "  'journeyed',\n",
              "  'to',\n",
              "  'the',\n",
              "  'bedroom',\n",
              "  '.'],\n",
              " ['Is', 'Sandra', 'in', 'the', 'hallway', '?'],\n",
              " 'no')"
            ]
          },
          "metadata": {},
          "execution_count": 460
        }
      ]
    },
    {
      "cell_type": "code",
      "source": [
        "# Display the story, question, and answer for the first 5 data points\n",
        "text = ''\n",
        "\n",
        "print('Story:')\n",
        "for i in range(5):\n",
        "     print(f\"Train datapoint no.: {i}\")\n",
        "     for sent in train_data[i]:\n",
        "        if sent not in ['yes', 'no']:\n",
        "            for word in sent:\n",
        "                if word != '.':\n",
        "                    if word != '?':\n",
        "                        text += word + ' '\n",
        "                    else:\n",
        "                        print()\n",
        "                        print('Question:', text[:-1] + word)\n",
        "                        print()\n",
        "                        text = ''\n",
        "                else:\n",
        "                    print(text[:-1] + word)\n",
        "                    text = ''\n",
        "        else:\n",
        "            print('Answer:', sent, '\\n')"
      ],
      "metadata": {
        "colab": {
          "base_uri": "https://localhost:8080/"
        },
        "id": "XXp0Lw5Gkx6Q",
        "outputId": "a72b7a62-484f-4a27-9e45-5386f9fc2f60"
      },
      "execution_count": 461,
      "outputs": [
        {
          "output_type": "stream",
          "name": "stdout",
          "text": [
            "Story:\n",
            "Train datapoint no.: 0\n",
            "Mary moved to the bathroom.\n",
            "Sandra journeyed to the bedroom.\n",
            "\n",
            "Question: Is Sandra in the hallway?\n",
            "\n",
            "Answer: no \n",
            "\n",
            "Train datapoint no.: 1\n",
            "Mary moved to the bathroom.\n",
            "Sandra journeyed to the bedroom.\n",
            "Mary went back to the bedroom.\n",
            "Daniel went back to the hallway.\n",
            "\n",
            "Question: Is Daniel in the bathroom?\n",
            "\n",
            "Answer: no \n",
            "\n",
            "Train datapoint no.: 2\n",
            "Mary moved to the bathroom.\n",
            "Sandra journeyed to the bedroom.\n",
            "Mary went back to the bedroom.\n",
            "Daniel went back to the hallway.\n",
            "Sandra went to the kitchen.\n",
            "Daniel went back to the bathroom.\n",
            "\n",
            "Question: Is Daniel in the office?\n",
            "\n",
            "Answer: no \n",
            "\n",
            "Train datapoint no.: 3\n",
            "Mary moved to the bathroom.\n",
            "Sandra journeyed to the bedroom.\n",
            "Mary went back to the bedroom.\n",
            "Daniel went back to the hallway.\n",
            "Sandra went to the kitchen.\n",
            "Daniel went back to the bathroom.\n",
            "Daniel picked up the football there.\n",
            "Daniel went to the bedroom.\n",
            "\n",
            "Question: Is Daniel in the bedroom?\n",
            "\n",
            "Answer: yes \n",
            "\n",
            "Train datapoint no.: 4\n",
            "Mary moved to the bathroom.\n",
            "Sandra journeyed to the bedroom.\n",
            "Mary went back to the bedroom.\n",
            "Daniel went back to the hallway.\n",
            "Sandra went to the kitchen.\n",
            "Daniel went back to the bathroom.\n",
            "Daniel picked up the football there.\n",
            "Daniel went to the bedroom.\n",
            "John travelled to the office.\n",
            "Sandra went to the garden.\n",
            "\n",
            "Question: Is Daniel in the bedroom?\n",
            "\n",
            "Answer: yes \n",
            "\n"
          ]
        }
      ]
    },
    {
      "cell_type": "code",
      "source": [
        "# Combine train and test data for vocabulary creation\n",
        "all_data = train_data + test_data"
      ],
      "metadata": {
        "id": "Gre48J0tk5Md"
      },
      "execution_count": 462,
      "outputs": []
    },
    {
      "cell_type": "code",
      "source": [
        "len(all_data)"
      ],
      "metadata": {
        "colab": {
          "base_uri": "https://localhost:8080/"
        },
        "id": "BGR8O5-Hk82-",
        "outputId": "20963219-6516-448f-c937-0faa513a3a67"
      },
      "execution_count": 463,
      "outputs": [
        {
          "output_type": "execute_result",
          "data": {
            "text/plain": [
              "11000"
            ]
          },
          "metadata": {},
          "execution_count": 463
        }
      ]
    },
    {
      "cell_type": "markdown",
      "source": [
        "# Setting up Vocabulary of All Words"
      ],
      "metadata": {
        "id": "4DOiPDkvgkqN"
      }
    },
    {
      "cell_type": "code",
      "source": [
        "# Create a set that holds the vocab words\n",
        "vocab = set()"
      ],
      "metadata": {
        "id": "gXe-7B7-q-4k"
      },
      "execution_count": 464,
      "outputs": []
    },
    {
      "cell_type": "code",
      "source": [
        "# Update vocabulary with words from stories and questions\n",
        "for story, question, answer in all_data:\n",
        "    vocab.update(set(story))\n",
        "    vocab.update(set(question))"
      ],
      "metadata": {
        "id": "j5yvqRXsrfYd"
      },
      "execution_count": 465,
      "outputs": []
    },
    {
      "cell_type": "code",
      "source": [
        "vocab"
      ],
      "metadata": {
        "colab": {
          "base_uri": "https://localhost:8080/"
        },
        "id": "TyD2Eqe5rosJ",
        "outputId": "0b3fef93-f368-445d-9a91-d38914c5fdfe"
      },
      "execution_count": 466,
      "outputs": [
        {
          "output_type": "execute_result",
          "data": {
            "text/plain": [
              "{'.',\n",
              " '?',\n",
              " 'Daniel',\n",
              " 'Is',\n",
              " 'John',\n",
              " 'Mary',\n",
              " 'Sandra',\n",
              " 'apple',\n",
              " 'back',\n",
              " 'bathroom',\n",
              " 'bedroom',\n",
              " 'discarded',\n",
              " 'down',\n",
              " 'dropped',\n",
              " 'football',\n",
              " 'garden',\n",
              " 'got',\n",
              " 'grabbed',\n",
              " 'hallway',\n",
              " 'in',\n",
              " 'journeyed',\n",
              " 'kitchen',\n",
              " 'left',\n",
              " 'milk',\n",
              " 'moved',\n",
              " 'office',\n",
              " 'picked',\n",
              " 'put',\n",
              " 'the',\n",
              " 'there',\n",
              " 'to',\n",
              " 'took',\n",
              " 'travelled',\n",
              " 'up',\n",
              " 'went'}"
            ]
          },
          "metadata": {},
          "execution_count": 466
        }
      ]
    },
    {
      "cell_type": "code",
      "source": [
        "# Display the size of the vocabulary\n",
        "print(len(vocab))"
      ],
      "metadata": {
        "colab": {
          "base_uri": "https://localhost:8080/"
        },
        "id": "VnfyKkmlsBVz",
        "outputId": "7dcaa27f-82fb-4569-e86e-0eca456e3267"
      },
      "execution_count": 467,
      "outputs": [
        {
          "output_type": "stream",
          "name": "stdout",
          "text": [
            "35\n"
          ]
        }
      ]
    },
    {
      "cell_type": "code",
      "source": [
        "# Add 'yes' and 'no' to the vocabulary\n",
        "vocab.add('yes')\n",
        "vocab.add('no')"
      ],
      "metadata": {
        "id": "a3voPseRrvGJ"
      },
      "execution_count": 468,
      "outputs": []
    },
    {
      "cell_type": "code",
      "source": [
        "len(vocab)"
      ],
      "metadata": {
        "colab": {
          "base_uri": "https://localhost:8080/"
        },
        "id": "2OHbGZNWr9fm",
        "outputId": "9c59a209-dd49-4019-e307-7874fcbfd867"
      },
      "execution_count": 469,
      "outputs": [
        {
          "output_type": "execute_result",
          "data": {
            "text/plain": [
              "37"
            ]
          },
          "metadata": {},
          "execution_count": 469
        }
      ]
    },
    {
      "cell_type": "code",
      "source": [
        "# Increase vocabulary size by 1 for padding\n",
        "vocab_size = len(vocab) + 1"
      ],
      "metadata": {
        "id": "DRUphVehsP2R"
      },
      "execution_count": 470,
      "outputs": []
    },
    {
      "cell_type": "code",
      "source": [
        "# Display maximum story and question lengths\n",
        "max_story_len = max(len(data[0]) for data in all_data)\n",
        "max_question_len = max(len(data[1]) for data in all_data)"
      ],
      "metadata": {
        "id": "-DSdLY4OsXZc"
      },
      "execution_count": 471,
      "outputs": []
    },
    {
      "cell_type": "code",
      "source": [
        "# Display vocabulary size, max story length, and max question length\n",
        "print(f'vocab_size: {vocab_size}, max_story_len: {max_story_len}, max_question_len: {max_question_len}')"
      ],
      "metadata": {
        "colab": {
          "base_uri": "https://localhost:8080/"
        },
        "id": "3CaELj_plXCb",
        "outputId": "24b4cdbe-4f8c-4dd4-8495-a3b916bd7d1e"
      },
      "execution_count": 472,
      "outputs": [
        {
          "output_type": "stream",
          "name": "stdout",
          "text": [
            "vocab_size: 38, max_story_len: 156, max_question_len: 6\n"
          ]
        }
      ]
    },
    {
      "cell_type": "markdown",
      "source": [
        "# Data Vectorization"
      ],
      "metadata": {
        "id": "Ul1Kp7NcDOMZ"
      }
    },
    {
      "cell_type": "code",
      "source": [
        "# Reserve 0 for pad_sequences\n",
        "vocab_size = len(vocab) + 1"
      ],
      "metadata": {
        "id": "n-qwRVYwtL7-"
      },
      "execution_count": 473,
      "outputs": []
    },
    {
      "cell_type": "code",
      "source": [
        "# Initialize a Tokenizer and fit on the vocabulary\n",
        "tokenizer = Tokenizer(filters=[])\n",
        "tokenizer.fit_on_texts(vocab)"
      ],
      "metadata": {
        "id": "Vjt-wVoKtVZW"
      },
      "execution_count": 474,
      "outputs": []
    },
    {
      "cell_type": "code",
      "source": [
        "# Display word index dictionary\n",
        "tokenizer.word_index"
      ],
      "metadata": {
        "colab": {
          "base_uri": "https://localhost:8080/"
        },
        "id": "i6ZFKls1lsj4",
        "outputId": "b474bb3a-7389-4afe-dfdf-ee1b1a4068b4"
      },
      "execution_count": 475,
      "outputs": [
        {
          "output_type": "execute_result",
          "data": {
            "text/plain": [
              "{'is': 1,\n",
              " 'travelled': 2,\n",
              " 'milk': 3,\n",
              " 'in': 4,\n",
              " 'john': 5,\n",
              " 'went': 6,\n",
              " 'moved': 7,\n",
              " 'football': 8,\n",
              " 'up': 9,\n",
              " 'dropped': 10,\n",
              " '?': 11,\n",
              " 'daniel': 12,\n",
              " 'left': 13,\n",
              " '.': 14,\n",
              " 'apple': 15,\n",
              " 'to': 16,\n",
              " 'put': 17,\n",
              " 'back': 18,\n",
              " 'office': 19,\n",
              " 'grabbed': 20,\n",
              " 'discarded': 21,\n",
              " 'hallway': 22,\n",
              " 'got': 23,\n",
              " 'down': 24,\n",
              " 'took': 25,\n",
              " 'garden': 26,\n",
              " 'picked': 27,\n",
              " 'mary': 28,\n",
              " 'journeyed': 29,\n",
              " 'no': 30,\n",
              " 'the': 31,\n",
              " 'yes': 32,\n",
              " 'sandra': 33,\n",
              " 'there': 34,\n",
              " 'bedroom': 35,\n",
              " 'bathroom': 36,\n",
              " 'kitchen': 37}"
            ]
          },
          "metadata": {},
          "execution_count": 475
        }
      ]
    },
    {
      "cell_type": "code",
      "source": [
        "# Initialize lists for story text, question text, and answers\n",
        "train_story_text, train_question_text, train_answers = [], [], []"
      ],
      "metadata": {
        "id": "N94Jnv04l3Os"
      },
      "execution_count": 476,
      "outputs": []
    },
    {
      "cell_type": "code",
      "source": [
        "# Separate stories, questions, and answers from training data\n",
        "for story, question, answer in train_data:\n",
        "    train_story_text.append(story)\n",
        "    train_question_text.append(question)"
      ],
      "metadata": {
        "id": "8ZzUMZxql3oN"
      },
      "execution_count": 477,
      "outputs": []
    },
    {
      "cell_type": "code",
      "source": [
        "# Convert story text to sequences using the Tokenizer\n",
        "train_story_seq = tokenizer.texts_to_sequences(train_story_text)"
      ],
      "metadata": {
        "id": "EtjdhNfNl3rK"
      },
      "execution_count": 478,
      "outputs": []
    },
    {
      "cell_type": "code",
      "source": [
        "# Display lengths of original text and corresponding sequences\n",
        "print(len(train_story_text), len(train_story_seq))"
      ],
      "metadata": {
        "colab": {
          "base_uri": "https://localhost:8080/"
        },
        "id": "crZ1rMZml7MW",
        "outputId": "f943ece5-c63d-480d-f9e7-eaec20431d0f"
      },
      "execution_count": 479,
      "outputs": [
        {
          "output_type": "stream",
          "name": "stdout",
          "text": [
            "10000 10000\n"
          ]
        }
      ]
    },
    {
      "cell_type": "markdown",
      "source": [
        "## Function to vectorize data into padded sequences"
      ],
      "metadata": {
        "id": "wCYZNT5FDUQ3"
      }
    },
    {
      "cell_type": "code",
      "source": [
        "\n",
        "def vectorize_data(input_data, word_index=tokenizer.word_index, max_input_len=max_story_len, max_query_len=max_question_len):\n",
        "    '''\n",
        "    INPUT:\n",
        "\n",
        "    input_data: List of tuples containing input Stories, Queries, and Answers\n",
        "    word_index: Word index dictionary from tokenizer\n",
        "    max_input_len: Length of the longest input sequence (used for pad_sequences function)\n",
        "    max_query_len: Length of the longest query (used for pad_sequences function)\n",
        "\n",
        "    OUTPUT:\n",
        "\n",
        "    Vectorizes the input stories, queries, and one-hot encodes the answers into padded sequences.\n",
        "    Each word in the story and query is converted to its corresponding word index value.\n",
        "    The sequences are then padded to ensure uniform length.\n",
        "\n",
        "    Returns a tuple (X_input, X_query, Y_answer) containing the padded sequences for input stories, queries, and answers.\n",
        "\n",
        "    '''\n",
        "\n",
        "    # X_input = STORIES, X_query = QUERIES, Y_answer = ANSWERS\n",
        "    X_input, X_query, Y_answer = [], [], []\n",
        "\n",
        "    for story, query, answer in input_data:\n",
        "        # Convert words in the story to their word index values\n",
        "        x_input = [word_index[word.lower()] for word in story]\n",
        "        # Convert words in the query to their word index values\n",
        "        x_query = [word_index[word.lower()] for word in query]\n",
        "\n",
        "        # One-hot encode the correct answer\n",
        "        y_answer = np.zeros(vocab_size)\n",
        "        y_answer[word_index[answer]] = 1\n",
        "\n",
        "        # Append each set of input story, query, and answer to their respective lists\n",
        "        X_input.append(x_input)\n",
        "        X_query.append(x_query)\n",
        "        Y_answer.append(y_answer)\n",
        "\n",
        "    # Pad the sequences based on their max length to ensure uniform length for training\n",
        "    # RETURN TUPLE FOR UNPACKING\n",
        "    return pad_sequences(X_input, maxlen=max_input_len), pad_sequences(X_query, maxlen=max_query_len), np.array(Y_answer)\n",
        "\n"
      ],
      "metadata": {
        "id": "7PD5h2GAl7O0"
      },
      "execution_count": 480,
      "outputs": []
    },
    {
      "cell_type": "code",
      "source": [
        "# Vectorize training and testing data\n",
        "inputs_train, queries_train, answers_train = vectorize_data(train_data)\n",
        "inputs_test, queries_test, answers_test = vectorize_data(test_data)"
      ],
      "metadata": {
        "id": "dfAmE2EGl3uL"
      },
      "execution_count": 481,
      "outputs": []
    },
    {
      "cell_type": "code",
      "source": [
        "inputs_test"
      ],
      "metadata": {
        "colab": {
          "base_uri": "https://localhost:8080/"
        },
        "id": "z3owzkwnuTXY",
        "outputId": "9bd29c9f-3a8f-4fc6-95c1-af0261b29627"
      },
      "execution_count": 482,
      "outputs": [
        {
          "output_type": "execute_result",
          "data": {
            "text/plain": [
              "array([[ 0,  0,  0, ..., 31, 35, 14],\n",
              "       [ 0,  0,  0, ..., 31, 26, 14],\n",
              "       [ 0,  0,  0, ..., 31, 26, 14],\n",
              "       ...,\n",
              "       [ 0,  0,  0, ..., 31, 15, 14],\n",
              "       [ 0,  0,  0, ..., 31, 26, 14],\n",
              "       [ 0,  0,  0, ..., 15, 34, 14]], dtype=int32)"
            ]
          },
          "metadata": {},
          "execution_count": 482
        }
      ]
    },
    {
      "cell_type": "code",
      "source": [
        "queries_test"
      ],
      "metadata": {
        "colab": {
          "base_uri": "https://localhost:8080/"
        },
        "id": "1J5C9jvfvG5C",
        "outputId": "ede570e7-94eb-4f6c-9c0a-6ebd5b8bfbcc"
      },
      "execution_count": 483,
      "outputs": [
        {
          "output_type": "execute_result",
          "data": {
            "text/plain": [
              "array([[ 1,  5,  4, 31, 37, 11],\n",
              "       [ 1,  5,  4, 31, 37, 11],\n",
              "       [ 1,  5,  4, 31, 26, 11],\n",
              "       ...,\n",
              "       [ 1, 28,  4, 31, 35, 11],\n",
              "       [ 1, 33,  4, 31, 26, 11],\n",
              "       [ 1, 28,  4, 31, 26, 11]], dtype=int32)"
            ]
          },
          "metadata": {},
          "execution_count": 483
        }
      ]
    },
    {
      "cell_type": "code",
      "source": [
        "answers_test"
      ],
      "metadata": {
        "colab": {
          "base_uri": "https://localhost:8080/"
        },
        "id": "ZWZ7ZYkcvG8D",
        "outputId": "bf8ced71-2026-40ef-fd57-29d0ede86f6f"
      },
      "execution_count": 484,
      "outputs": [
        {
          "output_type": "execute_result",
          "data": {
            "text/plain": [
              "array([[0., 0., 0., ..., 0., 0., 0.],\n",
              "       [0., 0., 0., ..., 0., 0., 0.],\n",
              "       [0., 0., 0., ..., 0., 0., 0.],\n",
              "       ...,\n",
              "       [0., 0., 0., ..., 0., 0., 0.],\n",
              "       [0., 0., 0., ..., 0., 0., 0.],\n",
              "       [0., 0., 0., ..., 0., 0., 0.]])"
            ]
          },
          "metadata": {},
          "execution_count": 484
        }
      ]
    },
    {
      "cell_type": "code",
      "source": [
        "# Found almost equal proportion of Yes / No answers (no imbalance in dataset)\n",
        "print(sum(answers_test))"
      ],
      "metadata": {
        "colab": {
          "base_uri": "https://localhost:8080/"
        },
        "id": "_GZVLD-fvG-d",
        "outputId": "c0b4b53d-34cf-480d-f6c4-b1f92ff447f0"
      },
      "execution_count": 485,
      "outputs": [
        {
          "output_type": "stream",
          "name": "stdout",
          "text": [
            "[  0.   0.   0.   0.   0.   0.   0.   0.   0.   0.   0.   0.   0.   0.\n",
            "   0.   0.   0.   0.   0.   0.   0.   0.   0.   0.   0.   0.   0.   0.\n",
            "   0.   0. 503.   0. 497.   0.   0.   0.   0.   0.]\n"
          ]
        }
      ]
    },
    {
      "cell_type": "code",
      "source": [
        "tokenizer.word_index['yes']"
      ],
      "metadata": {
        "colab": {
          "base_uri": "https://localhost:8080/"
        },
        "id": "UO37hh0_vnYF",
        "outputId": "5dd7db05-acdb-4c52-dd24-5925b38594f3"
      },
      "execution_count": 486,
      "outputs": [
        {
          "output_type": "execute_result",
          "data": {
            "text/plain": [
              "32"
            ]
          },
          "metadata": {},
          "execution_count": 486
        }
      ]
    },
    {
      "cell_type": "code",
      "source": [
        "tokenizer.word_index['no']"
      ],
      "metadata": {
        "colab": {
          "base_uri": "https://localhost:8080/"
        },
        "id": "3_6bc_amvpXY",
        "outputId": "87c4464f-3bc4-4418-8a97-48b8c0e040dc"
      },
      "execution_count": 487,
      "outputs": [
        {
          "output_type": "execute_result",
          "data": {
            "text/plain": [
              "30"
            ]
          },
          "metadata": {},
          "execution_count": 487
        }
      ]
    },
    {
      "cell_type": "markdown",
      "source": [
        "# Model creation"
      ],
      "metadata": {
        "id": "nMUIb1OGDblD"
      }
    },
    {
      "cell_type": "markdown",
      "source": [
        "# Placeholders for Input Sequences\n",
        "There will be 2 inputs story and question, respectively."
      ],
      "metadata": {
        "id": "DqysDGl2Dbno"
      }
    },
    {
      "cell_type": "code",
      "source": [
        "# Define input layers for story and question\n",
        "input_sequence = Input((max_story_len,))\n",
        "question = Input((max_question_len,))"
      ],
      "metadata": {
        "id": "8I-9agnHvyWV"
      },
      "execution_count": 488,
      "outputs": []
    },
    {
      "cell_type": "markdown",
      "source": [
        "## Building the networks"
      ],
      "metadata": {
        "id": "jQKX-I_mEGL6"
      }
    },
    {
      "cell_type": "markdown",
      "source": [
        "# Encoders"
      ],
      "metadata": {
        "id": "p7mjGYPzEKt3"
      }
    },
    {
      "cell_type": "markdown",
      "source": [
        "### Input encoder m"
      ],
      "metadata": {
        "id": "rS1poFo9wC_8"
      }
    },
    {
      "cell_type": "code",
      "source": [
        "embedding_dim = 64"
      ],
      "metadata": {
        "id": "3Psx6de5nUQT"
      },
      "execution_count": 489,
      "outputs": []
    },
    {
      "cell_type": "code",
      "source": [
        "# Input gets embedded to a sequence of vectors\n",
        "input_encoder_m = Sequential()\n",
        "input_encoder_m.add(Embedding(input_dim=vocab_size,output_dim= embedding_dim))\n",
        "input_encoder_m.add(Dropout(0.3))\n",
        "# output: (samples, story_maxlen, embedding_dim)"
      ],
      "metadata": {
        "id": "jvO4m-XmwDfX"
      },
      "execution_count": 490,
      "outputs": []
    },
    {
      "cell_type": "markdown",
      "source": [
        "###Input encoder c"
      ],
      "metadata": {
        "id": "zTWX0Z3mwLsf"
      }
    },
    {
      "cell_type": "code",
      "source": [
        "# embed the input into a sequence of vectors of size query_maxlen\n",
        "input_encoder_c = Sequential()\n",
        "input_encoder_c.add(Embedding(input_dim=vocab_size,output_dim=max_question_len))\n",
        "input_encoder_c.add(Dropout(0.3))\n",
        "# output: (samples, story_maxlen, query_maxlen)"
      ],
      "metadata": {
        "id": "GMlbfjHpwL_z"
      },
      "execution_count": 491,
      "outputs": []
    },
    {
      "cell_type": "markdown",
      "source": [
        "### Question Encoder"
      ],
      "metadata": {
        "id": "ilAIS52UwW3u"
      }
    },
    {
      "cell_type": "code",
      "source": [
        "# embed the question into a sequence of vectors\n",
        "question_encoder = Sequential()\n",
        "question_encoder.add(Embedding(input_dim=vocab_size,\n",
        "                               output_dim=embedding_dim,\n",
        "                               input_length=max_question_len))\n",
        "question_encoder.add(Dropout(0.3))\n",
        "# output: (samples, query_maxlen, embedding_dim)"
      ],
      "metadata": {
        "id": "s_oqzkL9wVyp"
      },
      "execution_count": 492,
      "outputs": []
    },
    {
      "cell_type": "markdown",
      "source": [
        "#### Encoding the sequences"
      ],
      "metadata": {
        "id": "HOhA1Pwjwfnh"
      }
    },
    {
      "cell_type": "code",
      "source": [
        "# encode input sequence and questions (which are indices) to sequences of dense vectors\n",
        "input_encoded_m = input_encoder_m(input_sequence)\n",
        "input_encoded_c = input_encoder_c(input_sequence)\n",
        "question_encoded = question_encoder(question)"
      ],
      "metadata": {
        "id": "2NL_ofyxwfvO"
      },
      "execution_count": 493,
      "outputs": []
    },
    {
      "cell_type": "code",
      "source": [
        "# shape: (samples, story_maxlen, query_maxlen)\n",
        "match = dot([input_encoded_m, question_encoded], axes=(2, 2))\n",
        "match = Activation('softmax')(match)"
      ],
      "metadata": {
        "id": "qLxhCOoQwkPu"
      },
      "execution_count": 494,
      "outputs": []
    },
    {
      "cell_type": "code",
      "source": [
        "# add the match matrix with the second input vector sequence\n",
        "response = add([match, input_encoded_c])  # (samples, story_maxlen, query_maxlen)\n",
        "response = Permute((2, 1))(response)  # (samples, query_maxlen, story_maxlen)"
      ],
      "metadata": {
        "id": "Gi6qhsRywoqo"
      },
      "execution_count": 495,
      "outputs": []
    },
    {
      "cell_type": "code",
      "source": [
        "# concatenate the match matrix with the question vector sequence\n",
        "# (samples, query_maxlen, story_maxlen + embedding_dim)\n",
        "answer = concatenate([response, question_encoded])"
      ],
      "metadata": {
        "id": "A6ID4mUCwpJH"
      },
      "execution_count": 496,
      "outputs": []
    },
    {
      "cell_type": "code",
      "source": [
        "answer"
      ],
      "metadata": {
        "colab": {
          "base_uri": "https://localhost:8080/"
        },
        "id": "GvHWjwN0wsjJ",
        "outputId": "66e9a472-df8e-4a62-cc6e-b28fd3ee53be"
      },
      "execution_count": 497,
      "outputs": [
        {
          "output_type": "execute_result",
          "data": {
            "text/plain": [
              "<KerasTensor: shape=(None, 6, 220) dtype=float32 (created by layer 'concatenate_5')>"
            ]
          },
          "metadata": {},
          "execution_count": 497
        }
      ]
    },
    {
      "cell_type": "code",
      "source": [
        "answer= LSTM(32)(answer)"
      ],
      "metadata": {
        "id": "yP-l66t1w_NY"
      },
      "execution_count": 498,
      "outputs": []
    },
    {
      "cell_type": "code",
      "source": [
        "# Regularization with Dropout\n",
        "answer = Dropout(0.3)(answer)\n",
        "answer = Dense(vocab_size)(answer)  # (samples, vocab_size)"
      ],
      "metadata": {
        "id": "a636SdWZwujQ"
      },
      "execution_count": 499,
      "outputs": []
    },
    {
      "cell_type": "code",
      "source": [
        "answer.shape"
      ],
      "metadata": {
        "colab": {
          "base_uri": "https://localhost:8080/"
        },
        "id": "8AlkYTG6xDPU",
        "outputId": "1c7816db-686c-4914-9d23-87139e1b5595"
      },
      "execution_count": 500,
      "outputs": [
        {
          "output_type": "execute_result",
          "data": {
            "text/plain": [
              "TensorShape([None, 38])"
            ]
          },
          "metadata": {},
          "execution_count": 500
        }
      ]
    },
    {
      "cell_type": "code",
      "source": [
        "# we output a probability distribution over the vocabulary\n",
        "answer = Activation('softmax')(answer)"
      ],
      "metadata": {
        "id": "T0PeTaB7xGoE"
      },
      "execution_count": 501,
      "outputs": []
    },
    {
      "cell_type": "code",
      "source": [
        "# build the final model\n",
        "model = Model([input_sequence, question], answer)\n",
        "optimizer = RMSprop(learning_rate=0.01)\n",
        "model.compile(optimizer=optimizer, loss='categorical_crossentropy', metrics=['accuracy'])"
      ],
      "metadata": {
        "id": "hMFBPBnrxL68"
      },
      "execution_count": 502,
      "outputs": []
    },
    {
      "cell_type": "code",
      "source": [
        "model.summary()"
      ],
      "metadata": {
        "colab": {
          "base_uri": "https://localhost:8080/"
        },
        "id": "m7ISlsxoxO4U",
        "outputId": "9b184150-24f5-482a-c57e-526961bf926c"
      },
      "execution_count": 503,
      "outputs": [
        {
          "output_type": "stream",
          "name": "stdout",
          "text": [
            "Model: \"model_5\"\n",
            "__________________________________________________________________________________________________\n",
            " Layer (type)                Output Shape                 Param #   Connected to                  \n",
            "==================================================================================================\n",
            " input_11 (InputLayer)       [(None, 156)]                0         []                            \n",
            "                                                                                                  \n",
            " input_12 (InputLayer)       [(None, 6)]                  0         []                            \n",
            "                                                                                                  \n",
            " sequential_15 (Sequential)  (None, None, 64)             2432      ['input_11[0][0]']            \n",
            "                                                                                                  \n",
            " sequential_17 (Sequential)  (None, 6, 64)                2432      ['input_12[0][0]']            \n",
            "                                                                                                  \n",
            " dot_5 (Dot)                 (None, 156, 6)               0         ['sequential_15[0][0]',       \n",
            "                                                                     'sequential_17[0][0]']       \n",
            "                                                                                                  \n",
            " activation_10 (Activation)  (None, 156, 6)               0         ['dot_5[0][0]']               \n",
            "                                                                                                  \n",
            " sequential_16 (Sequential)  (None, None, 6)              228       ['input_11[0][0]']            \n",
            "                                                                                                  \n",
            " add_5 (Add)                 (None, 156, 6)               0         ['activation_10[0][0]',       \n",
            "                                                                     'sequential_16[0][0]']       \n",
            "                                                                                                  \n",
            " permute_5 (Permute)         (None, 6, 156)               0         ['add_5[0][0]']               \n",
            "                                                                                                  \n",
            " concatenate_5 (Concatenate  (None, 6, 220)               0         ['permute_5[0][0]',           \n",
            " )                                                                   'sequential_17[0][0]']       \n",
            "                                                                                                  \n",
            " lstm_5 (LSTM)               (None, 32)                   32384     ['concatenate_5[0][0]']       \n",
            "                                                                                                  \n",
            " dropout_23 (Dropout)        (None, 32)                   0         ['lstm_5[0][0]']              \n",
            "                                                                                                  \n",
            " dense_5 (Dense)             (None, 38)                   1254      ['dropout_23[0][0]']          \n",
            "                                                                                                  \n",
            " activation_11 (Activation)  (None, 38)                   0         ['dense_5[0][0]']             \n",
            "                                                                                                  \n",
            "==================================================================================================\n",
            "Total params: 38730 (151.29 KB)\n",
            "Trainable params: 38730 (151.29 KB)\n",
            "Non-trainable params: 0 (0.00 Byte)\n",
            "__________________________________________________________________________________________________\n"
          ]
        }
      ]
    },
    {
      "cell_type": "markdown",
      "source": [
        "## Model Training"
      ],
      "metadata": {
        "id": "5xTVHvpSFF7l"
      }
    },
    {
      "cell_type": "code",
      "source": [
        "import math\n",
        "from tensorflow.keras.callbacks import ReduceLROnPlateau, EarlyStopping, ModelCheckpoint, LearningRateScheduler"
      ],
      "metadata": {
        "id": "1TWRIz5cxTai"
      },
      "execution_count": 504,
      "outputs": []
    },
    {
      "cell_type": "code",
      "source": [
        "initial_learning_rate = 0.01\n",
        "epochs = 100\n",
        "decay = initial_learning_rate / epochs"
      ],
      "metadata": {
        "id": "VR033yXTpXXU"
      },
      "execution_count": 505,
      "outputs": []
    },
    {
      "cell_type": "code",
      "source": [
        "def lr_step_decay(epoch, lr):\n",
        "    drop_rate = 0.5\n",
        "    epochs_drop = 20\n",
        "    return initial_learning_rate * math.pow(drop_rate, math.floor(epoch/epochs_drop))"
      ],
      "metadata": {
        "id": "odG9WsrqpaIl"
      },
      "execution_count": 506,
      "outputs": []
    },
    {
      "cell_type": "code",
      "source": [
        "learning_rate = LearningRateScheduler(lr_step_decay, verbose=1)\n",
        "\n",
        "reduce_lr = ReduceLROnPlateau(monitor='val_loss', factor=0.66, patience=5, min_lr=0.0001, verbose=1)\n",
        "# factor by which the learning rate will be reduced. new_lr = lr * factor"
      ],
      "metadata": {
        "id": "uOSpLWrHpcQU"
      },
      "execution_count": 507,
      "outputs": []
    },
    {
      "cell_type": "code",
      "source": [
        "# train\n",
        "history = model.fit([inputs_train, queries_train], answers_train,batch_size=128,epochs=100,validation_data=([inputs_test, queries_test], answers_test))   #, callbacks=[reduce_lr])"
      ],
      "metadata": {
        "colab": {
          "base_uri": "https://localhost:8080/"
        },
        "id": "lyrMUpqHx0-j",
        "outputId": "cb1982b2-839a-4473-de90-fac2e8510795"
      },
      "execution_count": 508,
      "outputs": [
        {
          "output_type": "stream",
          "name": "stdout",
          "text": [
            "Epoch 1/100\n",
            "79/79 [==============================] - 4s 19ms/step - loss: 0.7932 - accuracy: 0.4885 - val_loss: 0.7093 - val_accuracy: 0.5030\n",
            "Epoch 2/100\n",
            "79/79 [==============================] - 1s 12ms/step - loss: 0.7060 - accuracy: 0.4970 - val_loss: 0.6939 - val_accuracy: 0.5030\n",
            "Epoch 3/100\n",
            "79/79 [==============================] - 1s 8ms/step - loss: 0.7021 - accuracy: 0.5016 - val_loss: 0.6941 - val_accuracy: 0.4970\n",
            "Epoch 4/100\n",
            "79/79 [==============================] - 1s 7ms/step - loss: 0.7012 - accuracy: 0.4969 - val_loss: 0.7697 - val_accuracy: 0.4970\n",
            "Epoch 5/100\n",
            "79/79 [==============================] - 1s 7ms/step - loss: 0.7016 - accuracy: 0.4999 - val_loss: 0.7076 - val_accuracy: 0.5030\n",
            "Epoch 6/100\n",
            "79/79 [==============================] - 1s 7ms/step - loss: 0.6995 - accuracy: 0.4998 - val_loss: 0.7312 - val_accuracy: 0.5030\n",
            "Epoch 7/100\n",
            "79/79 [==============================] - 1s 8ms/step - loss: 0.7002 - accuracy: 0.5006 - val_loss: 0.7335 - val_accuracy: 0.4970\n",
            "Epoch 8/100\n",
            "79/79 [==============================] - 1s 7ms/step - loss: 0.6988 - accuracy: 0.4991 - val_loss: 0.6988 - val_accuracy: 0.5030\n",
            "Epoch 9/100\n",
            "79/79 [==============================] - 1s 7ms/step - loss: 0.6992 - accuracy: 0.4991 - val_loss: 0.6983 - val_accuracy: 0.5030\n",
            "Epoch 10/100\n",
            "79/79 [==============================] - 1s 8ms/step - loss: 0.6991 - accuracy: 0.4934 - val_loss: 0.6936 - val_accuracy: 0.4970\n",
            "Epoch 11/100\n",
            "79/79 [==============================] - 1s 7ms/step - loss: 0.6975 - accuracy: 0.4995 - val_loss: 0.7905 - val_accuracy: 0.4970\n",
            "Epoch 12/100\n",
            "79/79 [==============================] - 1s 7ms/step - loss: 0.7002 - accuracy: 0.4951 - val_loss: 0.7209 - val_accuracy: 0.4970\n",
            "Epoch 13/100\n",
            "79/79 [==============================] - 1s 7ms/step - loss: 0.6984 - accuracy: 0.4941 - val_loss: 0.7168 - val_accuracy: 0.4970\n",
            "Epoch 14/100\n",
            "79/79 [==============================] - 1s 7ms/step - loss: 0.6984 - accuracy: 0.4927 - val_loss: 0.7489 - val_accuracy: 0.5030\n",
            "Epoch 15/100\n",
            "79/79 [==============================] - 1s 7ms/step - loss: 0.6990 - accuracy: 0.4984 - val_loss: 0.6941 - val_accuracy: 0.5030\n",
            "Epoch 16/100\n",
            "79/79 [==============================] - 1s 7ms/step - loss: 0.6958 - accuracy: 0.5151 - val_loss: 0.6952 - val_accuracy: 0.4940\n",
            "Epoch 17/100\n",
            "79/79 [==============================] - 1s 7ms/step - loss: 0.6970 - accuracy: 0.5025 - val_loss: 0.6938 - val_accuracy: 0.4990\n",
            "Epoch 18/100\n",
            "79/79 [==============================] - 1s 7ms/step - loss: 0.6924 - accuracy: 0.5245 - val_loss: 0.6977 - val_accuracy: 0.5010\n",
            "Epoch 19/100\n",
            "79/79 [==============================] - 1s 7ms/step - loss: 0.6652 - accuracy: 0.5959 - val_loss: 0.6265 - val_accuracy: 0.6570\n",
            "Epoch 20/100\n",
            "79/79 [==============================] - 1s 9ms/step - loss: 0.6222 - accuracy: 0.6626 - val_loss: 0.6141 - val_accuracy: 0.6770\n",
            "Epoch 21/100\n",
            "79/79 [==============================] - 1s 10ms/step - loss: 0.5738 - accuracy: 0.7113 - val_loss: 0.5039 - val_accuracy: 0.7770\n",
            "Epoch 22/100\n",
            "79/79 [==============================] - 1s 11ms/step - loss: 0.5188 - accuracy: 0.7528 - val_loss: 0.5092 - val_accuracy: 0.7690\n",
            "Epoch 23/100\n",
            "79/79 [==============================] - 1s 8ms/step - loss: 0.4678 - accuracy: 0.7890 - val_loss: 0.4802 - val_accuracy: 0.8000\n",
            "Epoch 24/100\n",
            "79/79 [==============================] - 1s 7ms/step - loss: 0.4218 - accuracy: 0.8159 - val_loss: 0.3928 - val_accuracy: 0.8070\n",
            "Epoch 25/100\n",
            "79/79 [==============================] - 1s 7ms/step - loss: 0.3645 - accuracy: 0.8442 - val_loss: 0.3988 - val_accuracy: 0.8290\n",
            "Epoch 26/100\n",
            "79/79 [==============================] - 1s 7ms/step - loss: 0.3465 - accuracy: 0.8482 - val_loss: 0.3711 - val_accuracy: 0.8320\n",
            "Epoch 27/100\n",
            "79/79 [==============================] - 1s 7ms/step - loss: 0.3351 - accuracy: 0.8513 - val_loss: 0.3977 - val_accuracy: 0.8140\n",
            "Epoch 28/100\n",
            "79/79 [==============================] - 1s 7ms/step - loss: 0.3284 - accuracy: 0.8546 - val_loss: 0.3714 - val_accuracy: 0.8200\n",
            "Epoch 29/100\n",
            "79/79 [==============================] - 1s 7ms/step - loss: 0.3233 - accuracy: 0.8578 - val_loss: 0.3761 - val_accuracy: 0.8270\n",
            "Epoch 30/100\n",
            "79/79 [==============================] - 1s 7ms/step - loss: 0.3185 - accuracy: 0.8579 - val_loss: 0.4018 - val_accuracy: 0.8330\n",
            "Epoch 31/100\n",
            "79/79 [==============================] - 1s 7ms/step - loss: 0.3121 - accuracy: 0.8654 - val_loss: 0.4684 - val_accuracy: 0.8080\n",
            "Epoch 32/100\n",
            "79/79 [==============================] - 1s 7ms/step - loss: 0.3126 - accuracy: 0.8631 - val_loss: 0.3683 - val_accuracy: 0.8330\n",
            "Epoch 33/100\n",
            "79/79 [==============================] - 1s 7ms/step - loss: 0.3088 - accuracy: 0.8627 - val_loss: 0.3639 - val_accuracy: 0.8240\n",
            "Epoch 34/100\n",
            "79/79 [==============================] - 1s 7ms/step - loss: 0.3023 - accuracy: 0.8652 - val_loss: 0.4338 - val_accuracy: 0.8250\n",
            "Epoch 35/100\n",
            "79/79 [==============================] - 1s 7ms/step - loss: 0.2983 - accuracy: 0.8655 - val_loss: 0.4217 - val_accuracy: 0.8290\n",
            "Epoch 36/100\n",
            "79/79 [==============================] - 1s 7ms/step - loss: 0.2957 - accuracy: 0.8638 - val_loss: 0.4351 - val_accuracy: 0.8220\n",
            "Epoch 37/100\n",
            "79/79 [==============================] - 1s 7ms/step - loss: 0.2969 - accuracy: 0.8660 - val_loss: 0.3655 - val_accuracy: 0.8370\n",
            "Epoch 38/100\n",
            "79/79 [==============================] - 1s 7ms/step - loss: 0.2944 - accuracy: 0.8669 - val_loss: 0.3723 - val_accuracy: 0.8260\n",
            "Epoch 39/100\n",
            "79/79 [==============================] - 1s 7ms/step - loss: 0.2876 - accuracy: 0.8707 - val_loss: 0.3978 - val_accuracy: 0.8160\n",
            "Epoch 40/100\n",
            "79/79 [==============================] - 1s 7ms/step - loss: 0.2849 - accuracy: 0.8699 - val_loss: 0.4263 - val_accuracy: 0.8290\n",
            "Epoch 41/100\n",
            "79/79 [==============================] - 1s 10ms/step - loss: 0.2821 - accuracy: 0.8728 - val_loss: 0.3753 - val_accuracy: 0.8310\n",
            "Epoch 42/100\n",
            "79/79 [==============================] - 1s 10ms/step - loss: 0.2802 - accuracy: 0.8735 - val_loss: 0.3922 - val_accuracy: 0.8320\n",
            "Epoch 43/100\n",
            "79/79 [==============================] - 1s 10ms/step - loss: 0.2782 - accuracy: 0.8735 - val_loss: 0.3939 - val_accuracy: 0.8270\n",
            "Epoch 44/100\n",
            "79/79 [==============================] - 1s 7ms/step - loss: 0.2748 - accuracy: 0.8783 - val_loss: 0.4025 - val_accuracy: 0.8330\n",
            "Epoch 45/100\n",
            "79/79 [==============================] - 1s 7ms/step - loss: 0.2702 - accuracy: 0.8765 - val_loss: 0.3927 - val_accuracy: 0.8420\n",
            "Epoch 46/100\n",
            "79/79 [==============================] - 1s 7ms/step - loss: 0.2699 - accuracy: 0.8788 - val_loss: 0.4452 - val_accuracy: 0.8160\n",
            "Epoch 47/100\n",
            "79/79 [==============================] - 1s 7ms/step - loss: 0.2688 - accuracy: 0.8801 - val_loss: 0.4276 - val_accuracy: 0.8330\n",
            "Epoch 48/100\n",
            "79/79 [==============================] - 1s 7ms/step - loss: 0.2631 - accuracy: 0.8816 - val_loss: 0.4067 - val_accuracy: 0.8290\n",
            "Epoch 49/100\n",
            "79/79 [==============================] - 1s 7ms/step - loss: 0.2588 - accuracy: 0.8846 - val_loss: 0.4024 - val_accuracy: 0.8200\n",
            "Epoch 50/100\n",
            "79/79 [==============================] - 1s 7ms/step - loss: 0.2638 - accuracy: 0.8816 - val_loss: 0.4393 - val_accuracy: 0.8340\n",
            "Epoch 51/100\n",
            "79/79 [==============================] - 1s 7ms/step - loss: 0.2589 - accuracy: 0.8819 - val_loss: 0.4318 - val_accuracy: 0.8260\n",
            "Epoch 52/100\n",
            "79/79 [==============================] - 1s 7ms/step - loss: 0.2550 - accuracy: 0.8850 - val_loss: 0.4350 - val_accuracy: 0.8310\n",
            "Epoch 53/100\n",
            "79/79 [==============================] - 1s 7ms/step - loss: 0.2536 - accuracy: 0.8855 - val_loss: 0.4225 - val_accuracy: 0.8330\n",
            "Epoch 54/100\n",
            "79/79 [==============================] - 1s 8ms/step - loss: 0.2472 - accuracy: 0.8895 - val_loss: 0.4314 - val_accuracy: 0.8230\n",
            "Epoch 55/100\n",
            "79/79 [==============================] - 1s 8ms/step - loss: 0.2398 - accuracy: 0.8914 - val_loss: 0.4737 - val_accuracy: 0.8190\n",
            "Epoch 56/100\n",
            "79/79 [==============================] - 1s 7ms/step - loss: 0.2439 - accuracy: 0.8909 - val_loss: 0.4383 - val_accuracy: 0.8330\n",
            "Epoch 57/100\n",
            "79/79 [==============================] - 1s 7ms/step - loss: 0.2388 - accuracy: 0.8940 - val_loss: 0.4257 - val_accuracy: 0.8290\n",
            "Epoch 58/100\n",
            "79/79 [==============================] - 1s 7ms/step - loss: 0.2333 - accuracy: 0.8931 - val_loss: 0.4155 - val_accuracy: 0.8170\n",
            "Epoch 59/100\n",
            "79/79 [==============================] - 1s 7ms/step - loss: 0.2318 - accuracy: 0.8967 - val_loss: 0.4912 - val_accuracy: 0.8230\n",
            "Epoch 60/100\n",
            "79/79 [==============================] - 1s 7ms/step - loss: 0.2335 - accuracy: 0.8956 - val_loss: 0.4789 - val_accuracy: 0.8240\n",
            "Epoch 61/100\n",
            "79/79 [==============================] - 1s 10ms/step - loss: 0.2319 - accuracy: 0.8967 - val_loss: 0.4905 - val_accuracy: 0.8350\n",
            "Epoch 62/100\n",
            "79/79 [==============================] - 1s 10ms/step - loss: 0.2227 - accuracy: 0.8972 - val_loss: 0.4534 - val_accuracy: 0.8220\n",
            "Epoch 63/100\n",
            "79/79 [==============================] - 1s 10ms/step - loss: 0.2271 - accuracy: 0.8953 - val_loss: 0.5613 - val_accuracy: 0.8360\n",
            "Epoch 64/100\n",
            "79/79 [==============================] - 1s 8ms/step - loss: 0.2221 - accuracy: 0.9009 - val_loss: 0.4966 - val_accuracy: 0.8230\n",
            "Epoch 65/100\n",
            "79/79 [==============================] - 1s 8ms/step - loss: 0.2161 - accuracy: 0.9038 - val_loss: 0.4940 - val_accuracy: 0.8310\n",
            "Epoch 66/100\n",
            "79/79 [==============================] - 1s 7ms/step - loss: 0.2078 - accuracy: 0.9077 - val_loss: 0.4775 - val_accuracy: 0.8280\n",
            "Epoch 67/100\n",
            "79/79 [==============================] - 1s 7ms/step - loss: 0.2101 - accuracy: 0.9060 - val_loss: 0.4890 - val_accuracy: 0.8200\n",
            "Epoch 68/100\n",
            "79/79 [==============================] - 1s 7ms/step - loss: 0.2018 - accuracy: 0.9105 - val_loss: 0.5721 - val_accuracy: 0.8080\n",
            "Epoch 69/100\n",
            "79/79 [==============================] - 1s 7ms/step - loss: 0.2097 - accuracy: 0.9069 - val_loss: 0.4626 - val_accuracy: 0.8170\n",
            "Epoch 70/100\n",
            "79/79 [==============================] - 1s 7ms/step - loss: 0.1960 - accuracy: 0.9121 - val_loss: 0.5297 - val_accuracy: 0.7990\n",
            "Epoch 71/100\n",
            "79/79 [==============================] - 1s 7ms/step - loss: 0.1995 - accuracy: 0.9124 - val_loss: 0.5575 - val_accuracy: 0.8210\n",
            "Epoch 72/100\n",
            "79/79 [==============================] - 1s 7ms/step - loss: 0.1948 - accuracy: 0.9164 - val_loss: 0.5710 - val_accuracy: 0.8100\n",
            "Epoch 73/100\n",
            "79/79 [==============================] - 1s 7ms/step - loss: 0.1893 - accuracy: 0.9158 - val_loss: 0.5118 - val_accuracy: 0.8120\n",
            "Epoch 74/100\n",
            "79/79 [==============================] - 1s 8ms/step - loss: 0.1871 - accuracy: 0.9186 - val_loss: 0.5064 - val_accuracy: 0.8300\n",
            "Epoch 75/100\n",
            "79/79 [==============================] - 1s 7ms/step - loss: 0.1866 - accuracy: 0.9203 - val_loss: 0.5903 - val_accuracy: 0.8260\n",
            "Epoch 76/100\n",
            "79/79 [==============================] - 1s 7ms/step - loss: 0.1844 - accuracy: 0.9173 - val_loss: 0.5415 - val_accuracy: 0.8310\n",
            "Epoch 77/100\n",
            "79/79 [==============================] - 1s 7ms/step - loss: 0.1795 - accuracy: 0.9237 - val_loss: 0.5202 - val_accuracy: 0.8320\n",
            "Epoch 78/100\n",
            "79/79 [==============================] - 1s 7ms/step - loss: 0.1767 - accuracy: 0.9244 - val_loss: 0.5381 - val_accuracy: 0.8410\n",
            "Epoch 79/100\n",
            "79/79 [==============================] - 1s 7ms/step - loss: 0.1763 - accuracy: 0.9238 - val_loss: 0.5066 - val_accuracy: 0.8380\n",
            "Epoch 80/100\n",
            "79/79 [==============================] - 1s 7ms/step - loss: 0.1698 - accuracy: 0.9288 - val_loss: 0.4977 - val_accuracy: 0.8430\n",
            "Epoch 81/100\n",
            "79/79 [==============================] - 1s 9ms/step - loss: 0.1644 - accuracy: 0.9291 - val_loss: 0.5532 - val_accuracy: 0.8350\n",
            "Epoch 82/100\n",
            "79/79 [==============================] - 1s 10ms/step - loss: 0.1694 - accuracy: 0.9267 - val_loss: 0.4941 - val_accuracy: 0.8450\n",
            "Epoch 83/100\n",
            "79/79 [==============================] - 1s 10ms/step - loss: 0.1603 - accuracy: 0.9347 - val_loss: 0.5795 - val_accuracy: 0.8390\n",
            "Epoch 84/100\n",
            "79/79 [==============================] - 1s 7ms/step - loss: 0.1588 - accuracy: 0.9338 - val_loss: 0.4161 - val_accuracy: 0.8500\n",
            "Epoch 85/100\n",
            "79/79 [==============================] - 1s 7ms/step - loss: 0.1596 - accuracy: 0.9336 - val_loss: 0.5917 - val_accuracy: 0.8410\n",
            "Epoch 86/100\n",
            "79/79 [==============================] - 1s 8ms/step - loss: 0.1483 - accuracy: 0.9367 - val_loss: 0.4717 - val_accuracy: 0.8510\n",
            "Epoch 87/100\n",
            "79/79 [==============================] - 1s 7ms/step - loss: 0.1481 - accuracy: 0.9388 - val_loss: 0.5015 - val_accuracy: 0.8480\n",
            "Epoch 88/100\n",
            "79/79 [==============================] - 1s 7ms/step - loss: 0.1590 - accuracy: 0.9321 - val_loss: 0.5235 - val_accuracy: 0.8450\n",
            "Epoch 89/100\n",
            "79/79 [==============================] - 1s 7ms/step - loss: 0.1481 - accuracy: 0.9414 - val_loss: 0.5453 - val_accuracy: 0.8520\n",
            "Epoch 90/100\n",
            "79/79 [==============================] - 1s 7ms/step - loss: 0.1507 - accuracy: 0.9384 - val_loss: 0.5371 - val_accuracy: 0.8520\n",
            "Epoch 91/100\n",
            "79/79 [==============================] - 1s 7ms/step - loss: 0.1468 - accuracy: 0.9395 - val_loss: 0.4267 - val_accuracy: 0.8530\n",
            "Epoch 92/100\n",
            "79/79 [==============================] - 1s 7ms/step - loss: 0.1433 - accuracy: 0.9415 - val_loss: 0.4944 - val_accuracy: 0.8390\n",
            "Epoch 93/100\n",
            "79/79 [==============================] - 1s 7ms/step - loss: 0.1428 - accuracy: 0.9434 - val_loss: 0.5295 - val_accuracy: 0.8420\n",
            "Epoch 94/100\n",
            "79/79 [==============================] - 1s 7ms/step - loss: 0.1332 - accuracy: 0.9455 - val_loss: 0.4860 - val_accuracy: 0.8470\n",
            "Epoch 95/100\n",
            "79/79 [==============================] - 1s 7ms/step - loss: 0.1366 - accuracy: 0.9457 - val_loss: 0.5169 - val_accuracy: 0.8510\n",
            "Epoch 96/100\n",
            "79/79 [==============================] - 1s 7ms/step - loss: 0.1346 - accuracy: 0.9451 - val_loss: 0.4581 - val_accuracy: 0.8650\n",
            "Epoch 97/100\n",
            "79/79 [==============================] - 1s 7ms/step - loss: 0.1347 - accuracy: 0.9441 - val_loss: 0.4530 - val_accuracy: 0.8520\n",
            "Epoch 98/100\n",
            "79/79 [==============================] - 1s 7ms/step - loss: 0.1224 - accuracy: 0.9514 - val_loss: 0.5155 - val_accuracy: 0.8550\n",
            "Epoch 99/100\n",
            "79/79 [==============================] - 1s 7ms/step - loss: 0.1327 - accuracy: 0.9493 - val_loss: 0.4977 - val_accuracy: 0.8550\n",
            "Epoch 100/100\n",
            "79/79 [==============================] - 1s 7ms/step - loss: 0.1262 - accuracy: 0.9476 - val_loss: 0.5162 - val_accuracy: 0.8660\n"
          ]
        }
      ]
    },
    {
      "cell_type": "markdown",
      "source": [
        "## Saving the model and tokenizer"
      ],
      "metadata": {
        "id": "5Fbtu7wVFMCr"
      }
    },
    {
      "cell_type": "code",
      "source": [
        "filename = 'chatbot_100_epochs_LSTM32_dropout_(0.3).h5'\n",
        "# model.save(filename)\n",
        "from tensorflow.keras.models import save_model\n",
        "save_model(model, filename)\n"
      ],
      "metadata": {
        "colab": {
          "base_uri": "https://localhost:8080/"
        },
        "id": "HiDVe2NhyaqC",
        "outputId": "10361b60-e710-4b93-9bb8-ab387df0ce89"
      },
      "execution_count": 526,
      "outputs": [
        {
          "output_type": "stream",
          "name": "stderr",
          "text": [
            "<ipython-input-526-5521bf02c5c0>:4: UserWarning: You are saving your model as an HDF5 file via `model.save()`. This file format is considered legacy. We recommend using instead the native Keras format, e.g. `model.save('my_model.keras')`.\n",
            "  save_model(model, filename)\n"
          ]
        }
      ]
    },
    {
      "cell_type": "code",
      "source": [
        "# Save the trained tokenizer\n",
        "with open('tokenizer.pickle', 'wb') as handle:\n",
        "    pickle.dump(tokenizer, handle, protocol=pickle.HIGHEST_PROTOCOL)"
      ],
      "metadata": {
        "id": "QMoUFqBA0qIj"
      },
      "execution_count": 510,
      "outputs": []
    },
    {
      "cell_type": "markdown",
      "source": [
        "# Model Evaluation"
      ],
      "metadata": {
        "id": "Relu_7aA1mDG"
      }
    },
    {
      "cell_type": "markdown",
      "source": [
        "## Training history plot"
      ],
      "metadata": {
        "id": "X8zykKldFWUU"
      }
    },
    {
      "cell_type": "code",
      "source": [
        "# Import necessary libraries for plotting\n",
        "import matplotlib.pyplot as plt\n",
        "%matplotlib inline\n",
        "\n",
        "# Display the keys available in the training history\n",
        "print(history.history.keys())\n",
        "\n",
        "# Plot training and validation accuracy over epochs\n",
        "plt.plot(history.history['accuracy'], label='Train')\n",
        "plt.plot(history.history['val_accuracy'], label='Validation')\n",
        "\n",
        "plt.title('Model Accuracy')\n",
        "plt.ylabel('Accuracy')\n",
        "plt.xlabel('Epoch')\n",
        "plt.legend(loc='upper left')\n",
        "\n",
        "# Save the plot\n",
        "plt.savefig('accuracy.png', dpi=180, facecolor='white')\n",
        "\n",
        "# Display the plot\n",
        "plt.show()"
      ],
      "metadata": {
        "colab": {
          "base_uri": "https://localhost:8080/",
          "height": 489
        },
        "id": "A2xyATMM1mJ5",
        "outputId": "163e090c-d19d-4753-84fd-96d356585e7a"
      },
      "execution_count": 511,
      "outputs": [
        {
          "output_type": "stream",
          "name": "stdout",
          "text": [
            "dict_keys(['loss', 'accuracy', 'val_loss', 'val_accuracy'])\n"
          ]
        },
        {
          "output_type": "display_data",
          "data": {
            "text/plain": [
              "<Figure size 640x480 with 1 Axes>"
            ],
            "image/png": "[encoded data removed]"
          },
          "metadata": {}
        }
      ]
    },
    {
      "cell_type": "code",
      "source": [
        "print(f\"Accuracy achieved: {history.history['accuracy'][-1]*100:.2f}%\")"
      ],
      "metadata": {
        "colab": {
          "base_uri": "https://localhost:8080/"
        },
        "id": "-qm0ywhgGpcJ",
        "outputId": "cac03811-7f03-4a50-94e3-af138a8ddead"
      },
      "execution_count": 512,
      "outputs": [
        {
          "output_type": "stream",
          "name": "stdout",
          "text": [
            "Accuracy achieved: 94.76%\n"
          ]
        }
      ]
    },
    {
      "cell_type": "markdown",
      "source": [
        "## Prediction/evaluation on given test set data"
      ],
      "metadata": {
        "id": "PhQuXXuR2H0n"
      }
    },
    {
      "cell_type": "code",
      "source": [
        "#model.load_weights(filename)\n",
        "pred_results = model.predict(([inputs_test, queries_test]))"
      ],
      "metadata": {
        "colab": {
          "base_uri": "https://localhost:8080/"
        },
        "id": "VYYD7TnR2H9G",
        "outputId": "45af9491-dd43-4e7f-9f6a-4ad62106c118"
      },
      "execution_count": 513,
      "outputs": [
        {
          "output_type": "stream",
          "name": "stdout",
          "text": [
            "32/32 [==============================] - 1s 4ms/step\n"
          ]
        }
      ]
    },
    {
      "cell_type": "code",
      "source": [
        "test_data[0][0]"
      ],
      "metadata": {
        "colab": {
          "base_uri": "https://localhost:8080/"
        },
        "id": "hGgDky4b2J4S",
        "outputId": "51a52769-fac3-4d31-a4bb-753c72abf888"
      },
      "execution_count": 514,
      "outputs": [
        {
          "output_type": "execute_result",
          "data": {
            "text/plain": [
              "['Mary',\n",
              " 'got',\n",
              " 'the',\n",
              " 'milk',\n",
              " 'there',\n",
              " '.',\n",
              " 'John',\n",
              " 'moved',\n",
              " 'to',\n",
              " 'the',\n",
              " 'bedroom',\n",
              " '.']"
            ]
          },
          "metadata": {},
          "execution_count": 514
        }
      ]
    },
    {
      "cell_type": "code",
      "source": [
        "# Display the story, question, and answer for the test_data[0]\n",
        "text=''\n",
        "print('Story:')\n",
        "\n",
        "for sent in test_data[0]:\n",
        "    if sent!='yes' and sent!='no':\n",
        "        for word in sent:\n",
        "            if (word!='.'):\n",
        "                if (word!='?'):\n",
        "                    text+= word + ' '\n",
        "                else:\n",
        "                    print()\n",
        "                    print('Question:', text[:-1]+word)\n",
        "                    print()\n",
        "            else:\n",
        "                print(text[:-1]+word)\n",
        "                text=''\n",
        "    else:\n",
        "        print('True Answer:', sent,'\\n')"
      ],
      "metadata": {
        "colab": {
          "base_uri": "https://localhost:8080/"
        },
        "id": "Xv2tYXRO2M1C",
        "outputId": "36a1772f-f2f1-4729-d00f-df8fb577be2a"
      },
      "execution_count": 515,
      "outputs": [
        {
          "output_type": "stream",
          "name": "stdout",
          "text": [
            "Story:\n",
            "Mary got the milk there.\n",
            "John moved to the bedroom.\n",
            "\n",
            "Question: Is John in the kitchen?\n",
            "\n",
            "True Answer: no \n",
            "\n"
          ]
        }
      ]
    },
    {
      "cell_type": "code",
      "source": [
        "#Generate prediction from model\n",
        "val_max = np.argmax(pred_results[0])\n",
        "\n",
        "for key, val in tokenizer.word_index.items():\n",
        "    if val == val_max:\n",
        "        k = key\n",
        "\n",
        "print(\"Predicted answer is: \", k)\n",
        "print(\"Probability of certainty was: \", pred_results[0][val_max])"
      ],
      "metadata": {
        "colab": {
          "base_uri": "https://localhost:8080/"
        },
        "id": "FpALVXty2aT9",
        "outputId": "04901423-dc67-4142-bfc6-f0d8ae2d525a"
      },
      "execution_count": 516,
      "outputs": [
        {
          "output_type": "stream",
          "name": "stdout",
          "text": [
            "Predicted answer is:  no\n",
            "Probability of certainty was:  0.9999981\n"
          ]
        }
      ]
    },
    {
      "cell_type": "code",
      "source": [],
      "metadata": {
        "id": "scG-ppEi2lop"
      },
      "execution_count": 516,
      "outputs": []
    },
    {
      "cell_type": "markdown",
      "source": [
        "# Prediction/evaluation on our own custom story and query\n",
        "We can use only the words present in the vocabulary."
      ],
      "metadata": {
        "id": "kTLbH3N22uKb"
      }
    },
    {
      "cell_type": "code",
      "source": [
        "vocab, len(vocab)"
      ],
      "metadata": {
        "id": "WlBPSx-a2vTr",
        "colab": {
          "base_uri": "https://localhost:8080/"
        },
        "outputId": "88cfef5a-4536-49ab-f8a3-92a839a4a2b2"
      },
      "execution_count": 517,
      "outputs": [
        {
          "output_type": "execute_result",
          "data": {
            "text/plain": [
              "({'.',\n",
              "  '?',\n",
              "  'Daniel',\n",
              "  'Is',\n",
              "  'John',\n",
              "  'Mary',\n",
              "  'Sandra',\n",
              "  'apple',\n",
              "  'back',\n",
              "  'bathroom',\n",
              "  'bedroom',\n",
              "  'discarded',\n",
              "  'down',\n",
              "  'dropped',\n",
              "  'football',\n",
              "  'garden',\n",
              "  'got',\n",
              "  'grabbed',\n",
              "  'hallway',\n",
              "  'in',\n",
              "  'journeyed',\n",
              "  'kitchen',\n",
              "  'left',\n",
              "  'milk',\n",
              "  'moved',\n",
              "  'no',\n",
              "  'office',\n",
              "  'picked',\n",
              "  'put',\n",
              "  'the',\n",
              "  'there',\n",
              "  'to',\n",
              "  'took',\n",
              "  'travelled',\n",
              "  'up',\n",
              "  'went',\n",
              "  'yes'},\n",
              " 37)"
            ]
          },
          "metadata": {},
          "execution_count": 517
        }
      ]
    },
    {
      "cell_type": "code",
      "source": [
        "def add_space_before_punctuation(input_string):\n",
        "    punctuation = ['.', '?']\n",
        "    output_string = ''\n",
        "\n",
        "    for char in input_string:\n",
        "        if char in punctuation:\n",
        "            output_string += ' ' + char\n",
        "        else:\n",
        "            output_string += char\n",
        "\n",
        "    return output_string"
      ],
      "metadata": {
        "id": "fLNL8ngKJdHd"
      },
      "execution_count": 518,
      "outputs": []
    },
    {
      "cell_type": "code",
      "source": [
        "custom_story='Daniel went to kitchen . Sandra moved to office . Mary moved to bathroom'"
      ],
      "metadata": {
        "id": "wQ9bLEatF_KC"
      },
      "execution_count": 519,
      "outputs": []
    },
    {
      "cell_type": "code",
      "source": [
        "custom_story=add_space_before_punctuation(custom_story)"
      ],
      "metadata": {
        "id": "BcIz5rZqJghv"
      },
      "execution_count": 520,
      "outputs": []
    },
    {
      "cell_type": "code",
      "source": [
        "custom_qn='Is Daniel in bathroom ?'"
      ],
      "metadata": {
        "id": "XV_sDvCzHxG0"
      },
      "execution_count": 521,
      "outputs": []
    },
    {
      "cell_type": "code",
      "source": [
        "custom_data = [(custom_story.split(),custom_qn.split(),'no')]"
      ],
      "metadata": {
        "id": "EAYoT-FiIFuH"
      },
      "execution_count": 522,
      "outputs": []
    },
    {
      "cell_type": "code",
      "source": [
        "custom_story,custom_qn,custom_data = vectorize_data(custom_data)"
      ],
      "metadata": {
        "id": "W7d0B7wwIORF"
      },
      "execution_count": 523,
      "outputs": []
    },
    {
      "cell_type": "code",
      "source": [
        "#model.load_weights(filename)\n",
        "pred_results = model.predict(([custom_story, custom_qn]))"
      ],
      "metadata": {
        "colab": {
          "base_uri": "https://localhost:8080/"
        },
        "id": "39Xw74O6Jy-x",
        "outputId": "c2fcf65f-6125-4cf5-c66b-7e08dedc1f03"
      },
      "execution_count": 524,
      "outputs": [
        {
          "output_type": "stream",
          "name": "stdout",
          "text": [
            "1/1 [==============================] - 0s 31ms/step\n"
          ]
        }
      ]
    },
    {
      "cell_type": "code",
      "source": [
        "#Generate prediction from model\n",
        "val_max = np.argmax(pred_results[0])\n",
        "\n",
        "for key, val in tokenizer.word_index.items():\n",
        "    if val == val_max:\n",
        "        k = key\n",
        "\n",
        "print(\"Predicted answer is: \", k)\n",
        "print(\"Probability of certainty was: \", pred_results[0][val_max])"
      ],
      "metadata": {
        "colab": {
          "base_uri": "https://localhost:8080/"
        },
        "id": "CpCwWSucIUV7",
        "outputId": "261ceba6-e02f-4221-db6d-128e921d2eab"
      },
      "execution_count": 525,
      "outputs": [
        {
          "output_type": "stream",
          "name": "stdout",
          "text": [
            "Predicted answer is:  no\n",
            "Probability of certainty was:  0.9999989\n"
          ]
        }
      ]
    },
    {
      "cell_type": "code",
      "source": [],
      "metadata": {
        "id": "zveW_rQGJ5FD"
      },
      "execution_count": 525,
      "outputs": []
    }
  ]
}